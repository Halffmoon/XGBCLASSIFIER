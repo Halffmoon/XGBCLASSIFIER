{
 "cells": [
  {
   "cell_type": "code",
   "execution_count": 3,
   "id": "513077f4-f66d-47fa-8496-a35441ec40e5",
   "metadata": {},
   "outputs": [
    {
     "name": "stdout",
     "output_type": "stream",
     "text": [
      "Requirement already satisfied: scikit-learn-intelex in c:\\users\\henit\\anaconda3\\lib\\site-packages (2025.0.0)\n",
      "Requirement already satisfied: daal==2025.0.0 in c:\\users\\henit\\anaconda3\\lib\\site-packages (from scikit-learn-intelex) (2025.0.0)\n",
      "Requirement already satisfied: numpy>=1.19 in c:\\users\\henit\\anaconda3\\lib\\site-packages (from scikit-learn-intelex) (1.26.4)\n",
      "Requirement already satisfied: scikit-learn>=0.22 in c:\\users\\henit\\anaconda3\\lib\\site-packages (from scikit-learn-intelex) (1.5.1)\n",
      "Requirement already satisfied: tbb==2022.* in c:\\users\\henit\\anaconda3\\lib\\site-packages (from daal==2025.0.0->scikit-learn-intelex) (2022.0.0)\n",
      "Requirement already satisfied: tcmlib==1.* in c:\\users\\henit\\anaconda3\\lib\\site-packages (from tbb==2022.*->daal==2025.0.0->scikit-learn-intelex) (1.2.0)\n",
      "Requirement already satisfied: scipy>=1.6.0 in c:\\users\\henit\\anaconda3\\lib\\site-packages (from scikit-learn>=0.22->scikit-learn-intelex) (1.13.1)\n",
      "Requirement already satisfied: joblib>=1.2.0 in c:\\users\\henit\\anaconda3\\lib\\site-packages (from scikit-learn>=0.22->scikit-learn-intelex) (1.4.2)\n",
      "Requirement already satisfied: threadpoolctl>=3.1.0 in c:\\users\\henit\\anaconda3\\lib\\site-packages (from scikit-learn>=0.22->scikit-learn-intelex) (3.5.0)\n",
      "Requirement already satisfied: xgboost in c:\\users\\henit\\anaconda3\\lib\\site-packages (2.1.3)\n",
      "Requirement already satisfied: numpy in c:\\users\\henit\\anaconda3\\lib\\site-packages (from xgboost) (1.26.4)\n",
      "Requirement already satisfied: scipy in c:\\users\\henit\\anaconda3\\lib\\site-packages (from xgboost) (1.13.1)\n",
      "XGB Version          :  2.1.3\n",
      "Scikit-Learn Version :  1.5.1\n",
      "Pandas Version       :  2.2.2\n"
     ]
    },
    {
     "name": "stderr",
     "output_type": "stream",
     "text": [
      "Intel(R) Extension for Scikit-learn* enabled (https://github.com/intel/scikit-learn-intelex)\n"
     ]
    }
   ],
   "source": [
    "# Install required libraries\n",
    "!pip install scikit-learn-intelex\n",
    "!pip install xgboost\n",
    "import sklearn\n",
    "from sklearnex import patch_sklearn\n",
    "patch_sklearn()\n",
    "#unpatch_sklearn()\n",
    "from sklearn.model_selection import train_test_split\n",
    "from sklearn.metrics import mean_squared_error\n",
    "import warnings\n",
    "warnings.simplefilter(action='ignore', category=FutureWarning)\n",
    "import pandas as pd\n",
    "from pandas import MultiIndex, Int16Dtype # if you don't import in this order you will get a pandas.Int64Index fix for FutureWarning error.\n",
    "import xgboost as xgb\n",
    "import numpy as np\n",
    "from time import perf_counter\n",
    "print(\"XGB Version          : \", xgb.__version__)\n",
    "print(\"Scikit-Learn Version : \", sklearn.__version__)\n",
    "print(\"Pandas Version       : \", pd.__version__)"
   ]
  },
  {
   "cell_type": "code",
   "execution_count": 4,
   "id": "ae8f125f-45bc-4a94-bd80-3201786697bc",
   "metadata": {},
   "outputs": [
    {
     "name": "stdout",
     "output_type": "stream",
     "text": [
      "(100000, 4)\n"
     ]
    }
   ],
   "source": [
    "filename = \"data90.csv\"\n",
    "names =  ['time', 'lat','lon','sea_surface_temperature']\n",
    "#data = pd.read_csv(filename, names=names, delimiter=\",\", nrows=100000)\n",
    "data = pd.read_csv(filename, names=names, delimiter=\",\", nrows=1100000)\n",
    "print(data.shape)"
   ]
  },
  {
   "cell_type": "code",
   "execution_count": 7,
   "id": "1ce8ec87-f8f2-4b81-b970-ba8b139d674d",
   "metadata": {},
   "outputs": [
    {
     "data": {
      "text/html": [
       "<div>\n",
       "<style scoped>\n",
       "    .dataframe tbody tr th:only-of-type {\n",
       "        vertical-align: middle;\n",
       "    }\n",
       "\n",
       "    .dataframe tbody tr th {\n",
       "        vertical-align: top;\n",
       "    }\n",
       "\n",
       "    .dataframe thead th {\n",
       "        text-align: right;\n",
       "    }\n",
       "</style>\n",
       "<table border=\"1\" class=\"dataframe\">\n",
       "  <thead>\n",
       "    <tr style=\"text-align: right;\">\n",
       "      <th></th>\n",
       "      <th>time</th>\n",
       "      <th>lat</th>\n",
       "      <th>lon</th>\n",
       "      <th>sea_surface_temperature</th>\n",
       "    </tr>\n",
       "  </thead>\n",
       "  <tbody>\n",
       "    <tr>\n",
       "      <th>0</th>\n",
       "      <td>time</td>\n",
       "      <td>lat</td>\n",
       "      <td>lon</td>\n",
       "      <td>sea_surface_temperature</td>\n",
       "    </tr>\n",
       "    <tr>\n",
       "      <th>1</th>\n",
       "      <td>2024-11-29T05:00:00Z</td>\n",
       "      <td>-59.975</td>\n",
       "      <td>67.975</td>\n",
       "      <td>272.22</td>\n",
       "    </tr>\n",
       "    <tr>\n",
       "      <th>2</th>\n",
       "      <td>2024-11-29T05:00:00Z</td>\n",
       "      <td>-59.975</td>\n",
       "      <td>68.025</td>\n",
       "      <td>272.18</td>\n",
       "    </tr>\n",
       "    <tr>\n",
       "      <th>3</th>\n",
       "      <td>2024-11-29T05:00:00Z</td>\n",
       "      <td>-59.975</td>\n",
       "      <td>68.075</td>\n",
       "      <td>272.01</td>\n",
       "    </tr>\n",
       "    <tr>\n",
       "      <th>4</th>\n",
       "      <td>2024-11-29T05:00:00Z</td>\n",
       "      <td>-59.975</td>\n",
       "      <td>68.125</td>\n",
       "      <td>272.01</td>\n",
       "    </tr>\n",
       "  </tbody>\n",
       "</table>\n",
       "</div>"
      ],
      "text/plain": [
       "                   time      lat     lon  sea_surface_temperature\n",
       "0                  time      lat     lon  sea_surface_temperature\n",
       "1  2024-11-29T05:00:00Z  -59.975  67.975                   272.22\n",
       "2  2024-11-29T05:00:00Z  -59.975  68.025                   272.18\n",
       "3  2024-11-29T05:00:00Z  -59.975  68.075                   272.01\n",
       "4  2024-11-29T05:00:00Z  -59.975  68.125                   272.01"
      ]
     },
     "execution_count": 7,
     "metadata": {},
     "output_type": "execute_result"
    }
   ],
   "source": [
    "data.head()"
   ]
  },
  {
   "cell_type": "code",
   "execution_count": 9,
   "id": "ae554f51-ebe7-4bcd-b485-0e743d6fa626",
   "metadata": {},
   "outputs": [
    {
     "data": {
      "text/plain": [
       "time                       object\n",
       "lat                        object\n",
       "lon                        object\n",
       "sea_surface_temperature    object\n",
       "dtype: object"
      ]
     },
     "execution_count": 9,
     "metadata": {},
     "output_type": "execute_result"
    }
   ],
   "source": [
    "data.dtypes"
   ]
  },
  {
   "cell_type": "code",
   "execution_count": 11,
   "id": "d3e007a6-7fce-466c-97db-a53e9f371899",
   "metadata": {},
   "outputs": [
    {
     "name": "stdout",
     "output_type": "stream",
     "text": [
      "Value counts for 'time':\n",
      "time\n",
      "2024-11-29T05:00:00Z    99999\n",
      "time                        1\n",
      "Name: count, dtype: int64\n",
      "\n",
      "Value counts for 'lat':\n",
      "lat\n",
      "-34.575    957\n",
      "-34.425    941\n",
      "-34.675    922\n",
      "-34.625    920\n",
      "-34.525    919\n",
      "          ... \n",
      "-58.775      3\n",
      "-58.725      3\n",
      "-58.625      2\n",
      "-58.675      1\n",
      "lat          1\n",
      "Name: count, Length: 530, dtype: int64\n",
      "Value counts for 'lon':\n",
      "lon\n",
      "-0.725     170\n",
      "-0.775     170\n",
      "-0.375     169\n",
      "-0.675     169\n",
      "-0.825     167\n",
      "          ... \n",
      "100.825      1\n",
      "48.975       1\n",
      "48.925       1\n",
      "-12.525      1\n",
      "100.975      1\n",
      "Name: count, Length: 2293, dtype: int64\n",
      "Value counts for 'sea_surface_temperature':\n",
      "sea_surface_temperature\n",
      "292.87    182\n",
      "292.92    178\n",
      "293.05    178\n",
      "292.76    177\n",
      "292.75    176\n",
      "         ... \n",
      "298.01      1\n",
      "297.84      1\n",
      "297.93      1\n",
      "297.79      1\n",
      "297.92      1\n",
      "Name: count, Length: 2730, dtype: int64\n"
     ]
    }
   ],
   "source": [
    "# Count values for the 'category' column\n",
    "if 'time' in data.columns:\n",
    "    print(\"Value counts for 'time':\")\n",
    "    print(data['time'].value_counts())\n",
    "else:\n",
    "    print(\"Column 'time' not found!\")\n",
    "\n",
    "# Count values for the 'sub_category' column\n",
    "if 'lat' in data.columns:\n",
    "    print(\"\\nValue counts for 'lat':\")\n",
    "    print(data['lat'].value_counts())\n",
    "else:\n",
    "    print(\"Column 'lat' not found!\")\n",
    "\n",
    "if 'lon' in data.columns:\n",
    "    print(\"Value counts for 'lon':\")\n",
    "    print(data['lon'].value_counts())\n",
    "else:\n",
    "    print(\"Column 'lon' not found!\")\n",
    "\n",
    "if 'sea_surface_temperature' in data.columns:\n",
    "    print(\"Value counts for 'sea_surface_temperature':\")\n",
    "    print(data['sea_surface_temperature'].value_counts())\n",
    "else:\n",
    "    print(\"Column 'sea_surface_temperature' not found!\")\n"
   ]
  },
  {
   "cell_type": "code",
   "execution_count": 13,
   "id": "5f4495d2-f400-4772-83d9-b22bf7261010",
   "metadata": {},
   "outputs": [],
   "source": [
    "X, y= data.iloc[:, 1:],data.iloc[:,0]\n"
   ]
  },
  {
   "cell_type": "code",
   "execution_count": 15,
   "id": "c90d0c62-76ba-426c-b1de-92bb7557b123",
   "metadata": {},
   "outputs": [
    {
     "name": "stdout",
     "output_type": "stream",
     "text": [
      "           lat     lon  sea_surface_temperature\n",
      "0          lat     lon  sea_surface_temperature\n",
      "1      -59.975  67.975                   272.22\n",
      "2      -59.975  68.025                   272.18\n",
      "3      -59.975  68.075                   272.01\n",
      "4      -59.975  68.125                   272.01\n",
      "...        ...     ...                      ...\n",
      "99995  -33.575  14.075                    290.4\n",
      "99996  -33.575  14.125                   290.49\n",
      "99997  -33.575  14.175                   290.29\n",
      "99998  -33.575  14.225                   290.34\n",
      "99999  -33.575  14.275                   290.06\n",
      "\n",
      "[100000 rows x 3 columns]\n"
     ]
    }
   ],
   "source": [
    "print(data.iloc[:,1:])"
   ]
  },
  {
   "cell_type": "code",
   "execution_count": 17,
   "id": "d8d94465-6c17-4012-ab43-be86ccab20c6",
   "metadata": {},
   "outputs": [
    {
     "name": "stdout",
     "output_type": "stream",
     "text": [
      "0                        time\n",
      "1        2024-11-29T05:00:00Z\n",
      "2        2024-11-29T05:00:00Z\n",
      "3        2024-11-29T05:00:00Z\n",
      "4        2024-11-29T05:00:00Z\n",
      "                 ...         \n",
      "99995    2024-11-29T05:00:00Z\n",
      "99996    2024-11-29T05:00:00Z\n",
      "99997    2024-11-29T05:00:00Z\n",
      "99998    2024-11-29T05:00:00Z\n",
      "99999    2024-11-29T05:00:00Z\n",
      "Name: time, Length: 100000, dtype: object\n"
     ]
    }
   ],
   "source": [
    "print(data.iloc[:,0])"
   ]
  },
  {
   "cell_type": "code",
   "execution_count": 19,
   "id": "8f234d8d-a46b-41d5-9340-d0d5f1fb04c4",
   "metadata": {},
   "outputs": [],
   "source": [
    "X_train, X_test, y_train, y_test = train_test_split(X, y, test_size=0.2, random_state=42) # Assuming a 80/20 train/test split"
   ]
  },
  {
   "cell_type": "code",
   "execution_count": 21,
   "id": "bffb0426-d3d0-437b-aa85-21f9e7dcdeb3",
   "metadata": {},
   "outputs": [
    {
     "name": "stdout",
     "output_type": "stream",
     "text": [
      "It took 2.101413799999932  to fit.\n"
     ]
    }
   ],
   "source": [
    "import pandas as pd\n",
    "import numpy as np\n",
    "from sklearn.model_selection import train_test_split\n",
    "import xgboost as xgb\n",
    "from time import perf_counter\n",
    "import warnings\n",
    "\n",
    "# ... (your existing code to load and prepare data) ...\n",
    "\n",
    "# Convert y_train to numeric if it contains strings\n",
    "if y_train.dtype == object: # Check if the dtype is 'object', which usually indicates strings\n",
    "    y_train = pd.to_numeric(y_train, errors='coerce')  # Convert to numeric, replace invalid values with NaN\n",
    "    # Convert y_train to a Pandas Series to use fillna()\n",
    "    y_train = pd.Series(y_train)\n",
    "    y_train = y_train.fillna(0).astype(int) # Fill NaNs with 0 and convert to integer\n",
    "    # Convert y_train back to a NumPy array if needed\n",
    "    y_train = y_train.to_numpy()\n",
    "\n",
    "# Convert problematic columns in X_train to numeric\n",
    "for col in ['lat', 'lon', 'sea_surface_temperature']:\n",
    "    X_train[col] = pd.to_numeric(X_train[col], errors='coerce')\n",
    "\n",
    "# Set XGBoost parameters\n",
    "xgb_params = {\n",
    "    'objective':                    'binary:logistic',\n",
    "    'predictor':                    'cpu_predictor',\n",
    "    'disable_default_eval_metric':  'true',\n",
    "}\n",
    "\n",
    "# Train the model\n",
    "warnings.simplefilter(action='ignore', category=UserWarning)\n",
    "t1_start = perf_counter()  # Time fit function\n",
    "model_xgb= xgb.XGBClassifier(**xgb_params)\n",
    "model_xgb.fit(X_train,y_train)\n",
    "t1_stop = perf_counter()\n",
    "print (\"It took\", t1_stop-t1_start,\" to fit.\")"
   ]
  },
  {
   "cell_type": "code",
   "execution_count": 22,
   "id": "f83c5bb1-e087-4b0a-94c8-c3b9226bb380",
   "metadata": {},
   "outputs": [],
   "source": [
    "# Convert problematic columns in X_test to numeric before prediction\n",
    "for col in ['lat', 'lon', 'sea_surface_temperature']:\n",
    "    X_test[col] = pd.to_numeric(X_test[col], errors='coerce')\n",
    "\n",
    "result_predict_xgb_test = model_xgb.predict(X_test)"
   ]
  },
  {
   "cell_type": "code",
   "execution_count": 25,
   "id": "65577508-cb86-42fd-9afe-47ec5aead034",
   "metadata": {},
   "outputs": [
    {
     "name": "stdout",
     "output_type": "stream",
     "text": [
      "Model accuracy = 0.0\n"
     ]
    }
   ],
   "source": [
    "# Check model accuracy\n",
    "# Convert problematic columns in X_test to numeric before prediction\n",
    "for col in ['lat', 'lon', 'sea_surface_temperature']:\n",
    "    X_test[col] = pd.to_numeric(X_test[col], errors='coerce')\n",
    "acc = np.mean(y_test == result_predict_xgb_test)\n",
    "print(\"Model accuracy =\",acc)"
   ]
  },
  {
   "cell_type": "code",
   "execution_count": 27,
   "id": "982d0556-39be-4a42-ad3e-8068566a16ba",
   "metadata": {},
   "outputs": [],
   "source": [
    "# Convert problematic columns in X_test to numeric before prediction\n",
    "for col in ['lat', 'lon', 'sea_surface_temperature']:\n",
    "    X_test[col] = pd.to_numeric(X_test[col], errors='coerce')\n",
    "    param_grid = {\n",
    "    \"learning_rate\": [0.1, 0.3, 0.5],\n",
    "    \"gamma\": [0, 0.25, 1],\n",
    "    \"max_depth\": [4, 6, 8],\n",
    "    \"subsample\": [0.5, 1],\n",
    "    \"colsample_bytree\": [0.7, 1],\n",
    "    \"colsample_bynode\": [0.7, 1],\n",
    "    \"reg_lambda\": [0, 1, 10],\n",
    "    \"scale_pos_weight\": [1],\n",
    "}"
   ]
  },
  {
   "cell_type": "code",
   "execution_count": 29,
   "id": "43ad4dce-8db6-411c-b7c4-02154c2757ef",
   "metadata": {},
   "outputs": [],
   "source": [
    "from sklearn.model_selection import GridSearchCV\n",
    "xgb_params2 = {\n",
    "    'objective':                    'binary:logistic',\n",
    "    'predictor':                    'cpu_predictor',\n",
    "    'disable_default_eval_metric':  'true',\n",
    "    'tree_method':                  'hist',\n",
    "}\n",
    "# Necessary for now to supress multi-threaded Future errors with respect to pandas and XGBoost\n",
    "import os\n",
    "os.environ['PYTHONWARNINGS']='ignore::FutureWarning'\n",
    "\n",
    "# Train the model\n",
    "model_xgb= xgb.XGBClassifier(**xgb_params2, use_label_encoder=False)\n",
    "\n",
    "# Setup grid search n_jobs=-1 uses all cores, reducing cv from 5 to 3 for speed, scoring is done using area under curve.\n",
    "grid_cv = GridSearchCV(model_xgb, param_grid, n_jobs=-1, cv=3, scoring=\"roc_auc\")\n",
    "\n",
    "# This fit function takes a while--hours, make sure you are ready.\n",
    "_ = grid_cv.fit(X_train, y_train)"
   ]
  },
  {
   "cell_type": "code",
   "execution_count": 31,
   "id": "f661721c-e2ac-4fbe-81dc-fa030dba1151",
   "metadata": {},
   "outputs": [
    {
     "data": {
      "text/plain": [
       "nan"
      ]
     },
     "execution_count": 31,
     "metadata": {},
     "output_type": "execute_result"
    }
   ],
   "source": [
    "grid_cv.best_score_"
   ]
  },
  {
   "cell_type": "code",
   "execution_count": 33,
   "id": "bd1a629a-595c-4827-896d-33bda99483d3",
   "metadata": {},
   "outputs": [
    {
     "data": {
      "text/plain": [
       "{'colsample_bynode': 0.7,\n",
       " 'colsample_bytree': 0.7,\n",
       " 'gamma': 0,\n",
       " 'learning_rate': 0.1,\n",
       " 'max_depth': 4,\n",
       " 'reg_lambda': 0,\n",
       " 'scale_pos_weight': 1,\n",
       " 'subsample': 0.5}"
      ]
     },
     "execution_count": 33,
     "metadata": {},
     "output_type": "execute_result"
    }
   ],
   "source": [
    "grid_cv.best_params_"
   ]
  },
  {
   "cell_type": "code",
   "execution_count": 35,
   "id": "7cf0b66b-066f-4fc3-8528-a0c3ac85a256",
   "metadata": {},
   "outputs": [],
   "source": [
    "# Datasets used for evaluation after each round\n",
    "evalset = [(X_train, y_train), (X_test,y_test)]"
   ]
  },
  {
   "cell_type": "code",
   "execution_count": 37,
   "id": "7d004a51-2fb4-4410-b54c-48b14b52bfcc",
   "metadata": {},
   "outputs": [
    {
     "name": "stdout",
     "output_type": "stream",
     "text": [
      "[0]\tvalidation_0-logloss:0.74974\n",
      "[1]\tvalidation_0-logloss:0.77874\n",
      "[2]\tvalidation_0-logloss:0.81155\n",
      "[3]\tvalidation_0-logloss:0.84912\n",
      "[4]\tvalidation_0-logloss:0.84445\n",
      "[5]\tvalidation_0-logloss:0.89311\n",
      "[6]\tvalidation_0-logloss:0.90834\n",
      "[7]\tvalidation_0-logloss:0.95223\n",
      "[8]\tvalidation_0-logloss:0.99521\n",
      "[9]\tvalidation_0-logloss:1.01002\n",
      "[10]\tvalidation_0-logloss:1.04471\n",
      "[11]\tvalidation_0-logloss:1.06823\n",
      "[12]\tvalidation_0-logloss:1.11625\n",
      "[13]\tvalidation_0-logloss:1.12623\n",
      "[14]\tvalidation_0-logloss:1.14963\n",
      "[15]\tvalidation_0-logloss:1.17435\n",
      "[16]\tvalidation_0-logloss:1.21256\n",
      "[17]\tvalidation_0-logloss:1.23196\n",
      "[18]\tvalidation_0-logloss:1.23408\n",
      "[19]\tvalidation_0-logloss:1.25465\n",
      "[20]\tvalidation_0-logloss:1.29534\n",
      "[21]\tvalidation_0-logloss:1.30319\n",
      "[22]\tvalidation_0-logloss:1.31555\n",
      "[23]\tvalidation_0-logloss:1.31701\n",
      "[24]\tvalidation_0-logloss:1.32792\n",
      "[25]\tvalidation_0-logloss:1.35356\n",
      "[26]\tvalidation_0-logloss:1.36842\n",
      "[27]\tvalidation_0-logloss:1.37401\n",
      "[28]\tvalidation_0-logloss:1.39772\n",
      "[29]\tvalidation_0-logloss:1.40117\n",
      "[30]\tvalidation_0-logloss:1.42608\n",
      "[31]\tvalidation_0-logloss:1.42637\n",
      "[32]\tvalidation_0-logloss:1.44944\n",
      "[33]\tvalidation_0-logloss:1.47683\n",
      "[34]\tvalidation_0-logloss:1.50587\n",
      "[35]\tvalidation_0-logloss:1.51943\n",
      "[36]\tvalidation_0-logloss:1.52613\n",
      "[37]\tvalidation_0-logloss:1.55342\n",
      "[38]\tvalidation_0-logloss:1.56430\n",
      "[39]\tvalidation_0-logloss:1.56755\n",
      "[40]\tvalidation_0-logloss:1.56785\n",
      "[41]\tvalidation_0-logloss:1.58869\n",
      "[42]\tvalidation_0-logloss:1.59616\n",
      "[43]\tvalidation_0-logloss:1.59169\n",
      "[44]\tvalidation_0-logloss:1.61697\n",
      "[45]\tvalidation_0-logloss:1.63707\n",
      "[46]\tvalidation_0-logloss:1.65205\n",
      "[47]\tvalidation_0-logloss:1.65614\n",
      "[48]\tvalidation_0-logloss:1.64700\n",
      "[49]\tvalidation_0-logloss:1.66467\n",
      "[50]\tvalidation_0-logloss:1.65795\n",
      "[51]\tvalidation_0-logloss:1.67398\n",
      "[52]\tvalidation_0-logloss:1.69740\n",
      "[53]\tvalidation_0-logloss:1.70712\n",
      "[54]\tvalidation_0-logloss:1.71593\n",
      "[55]\tvalidation_0-logloss:1.73015\n",
      "[56]\tvalidation_0-logloss:1.74818\n",
      "[57]\tvalidation_0-logloss:1.73464\n",
      "[58]\tvalidation_0-logloss:1.73879\n",
      "[59]\tvalidation_0-logloss:1.74863\n",
      "[60]\tvalidation_0-logloss:1.76574\n",
      "[61]\tvalidation_0-logloss:1.78897\n",
      "[62]\tvalidation_0-logloss:1.79207\n",
      "[63]\tvalidation_0-logloss:1.79288\n",
      "[64]\tvalidation_0-logloss:1.80233\n",
      "[65]\tvalidation_0-logloss:1.80220\n",
      "[66]\tvalidation_0-logloss:1.80518\n",
      "[67]\tvalidation_0-logloss:1.77673\n",
      "[68]\tvalidation_0-logloss:1.78768\n",
      "[69]\tvalidation_0-logloss:1.79872\n",
      "[70]\tvalidation_0-logloss:1.81551\n",
      "[71]\tvalidation_0-logloss:1.81201\n",
      "[72]\tvalidation_0-logloss:1.82558\n",
      "[73]\tvalidation_0-logloss:1.83909\n",
      "[74]\tvalidation_0-logloss:1.83574\n",
      "[75]\tvalidation_0-logloss:1.84771\n",
      "[76]\tvalidation_0-logloss:1.84752\n",
      "[77]\tvalidation_0-logloss:1.85013\n",
      "[78]\tvalidation_0-logloss:1.85873\n",
      "[79]\tvalidation_0-logloss:1.85339\n",
      "[80]\tvalidation_0-logloss:1.86109\n",
      "[81]\tvalidation_0-logloss:1.87059\n",
      "[82]\tvalidation_0-logloss:1.87778\n",
      "[83]\tvalidation_0-logloss:1.87984\n",
      "[84]\tvalidation_0-logloss:1.88629\n",
      "[85]\tvalidation_0-logloss:1.88889\n",
      "[86]\tvalidation_0-logloss:1.89579\n",
      "[87]\tvalidation_0-logloss:1.89078\n",
      "[88]\tvalidation_0-logloss:1.89071\n",
      "[89]\tvalidation_0-logloss:1.89179\n",
      "[90]\tvalidation_0-logloss:1.89569\n",
      "[91]\tvalidation_0-logloss:1.90234\n",
      "[92]\tvalidation_0-logloss:1.89730\n",
      "[93]\tvalidation_0-logloss:1.91110\n",
      "[94]\tvalidation_0-logloss:1.91720\n",
      "[95]\tvalidation_0-logloss:1.92680\n",
      "[96]\tvalidation_0-logloss:1.92135\n",
      "[97]\tvalidation_0-logloss:1.92621\n",
      "[98]\tvalidation_0-logloss:1.92671\n",
      "[99]\tvalidation_0-logloss:1.92789\n",
      "Accuracy: 0.40\n"
     ]
    }
   ],
   "source": [
    "import pandas as pd\n",
    "import numpy as np\n",
    "from xgboost import XGBClassifier\n",
    "from sklearn.model_selection import train_test_split\n",
    "from sklearn.preprocessing import LabelEncoder\n",
    "from sklearn.metrics import accuracy_score\n",
    "\n",
    "# Sample data creation (replace this with your actual data)\n",
    "# Assuming 'y' contains datetime strings or similar values\n",
    "X = pd.DataFrame(np.random.randint(0, 100, size=(100, 4)), columns=['col1', 'col2', 'col3', 'col4'])\n",
    "y = np.random.choice(['2024-11-27T10:00:00Z', 'time'], size=100)\n",
    "\n",
    "# Encode the target variable\n",
    "encoder = LabelEncoder()\n",
    "y_encoded = encoder.fit_transform(y)  # This will convert string labels to integers\n",
    "\n",
    "# Split data into training and validation sets\n",
    "X_train, X_val, y_train, y_val = train_test_split(X, y_encoded, test_size=0.2, random_state=42)\n",
    "\n",
    "# Initialize XGBClassifier\n",
    "model = XGBClassifier(objective='binary:logistic', eval_metric='logloss', random_state=42)\n",
    "\n",
    "# Fit the model with eval_set for monitoring performance\n",
    "model.fit(X_train, y_train, eval_set=[(X_val, y_val)], verbose=True)\n",
    "\n",
    "# Make predictions on validation set\n",
    "y_pred = model.predict(X_val)\n",
    "\n",
    "# Calculate accuracy or other metrics as needed\n",
    "accuracy = accuracy_score(y_val, y_pred)\n",
    "print(f\"Accuracy: {accuracy:.2f}\")"
   ]
  },
  {
   "cell_type": "code",
   "execution_count": 39,
   "id": "17d149f4-b5d3-40d9-9b44-fce31869cfca",
   "metadata": {},
   "outputs": [
    {
     "name": "stdout",
     "output_type": "stream",
     "text": [
      "It took 0.9784818999999061 seconds to fit.\n"
     ]
    }
   ],
   "source": [
    "# Set XGBoost parameters\n",
    "xgb_params = {\n",
    "    'objective':                    'binary:logistic',\n",
    "    'predictor':                    'cpu_predictor',\n",
    "    'disable_default_eval_metric':  'true',\n",
    "    'max_depth':                     8,\n",
    "    'learning_rate':                 0.1,\n",
    "    'subsample':                     1,\n",
    "    'gamma':                         0,\n",
    "    'reg_lambda':                    10,\n",
    "    'scale_pos_weight':              1,\n",
    "    'tree_method':                  'hist', \n",
    "    'n_estimators':                  1000,\n",
    "}\n",
    "\n",
    "# Train the model\n",
    "t1_start = perf_counter()  # Time fit function\n",
    "model_xgb= xgb.XGBClassifier(**xgb_params)\n",
    "# Call the fit method to train the model\n",
    "model_xgb.fit(X_train, y_train) # This line is added to fit the model\n",
    "t1_stop = perf_counter()\n",
    "print (\"It took\", t1_stop-t1_start,\"seconds to fit.\")"
   ]
  },
  {
   "cell_type": "code",
   "execution_count": 41,
   "id": "a794d049-bc3a-45de-831d-b6759fed39cd",
   "metadata": {},
   "outputs": [
    {
     "name": "stdout",
     "output_type": "stream",
     "text": [
      "Model accuracy = 0.5\n"
     ]
    }
   ],
   "source": [
    "import pandas as pd\n",
    "import numpy as np\n",
    "from xgboost import XGBClassifier\n",
    "from sklearn.model_selection import train_test_split\n",
    "from sklearn.preprocessing import LabelEncoder\n",
    "from sklearn.metrics import accuracy_score\n",
    "\n",
    "# Sample data creation (replace this with your actual data)\n",
    "# Assuming X and y are your features and labels\n",
    "X = pd.DataFrame(np.random.randint(0, 100, size=(100, 3)), columns=['lat', 'lon', 'sea_surface_temperature'])\n",
    "y = np.random.choice(['class_0', 'class_1'], size=100)\n",
    "\n",
    "# Encode the target variable\n",
    "encoder = LabelEncoder()\n",
    "y_encoded = encoder.fit_transform(y)\n",
    "\n",
    "# Split data into training and validation sets\n",
    "X_train, X_val, y_train, y_val = train_test_split(X, y_encoded, test_size=0.2, random_state=42)\n",
    "\n",
    "# Initialize XGBClassifier\n",
    "model = XGBClassifier(objective='binary:logistic', eval_metric='logloss', random_state=42)\n",
    "\n",
    "# Fit the model\n",
    "model.fit(X_train, y_train)\n",
    "\n",
    "# Prepare X_test with matching feature names and order\n",
    "X_test = pd.DataFrame(np.random.randint(0, 100, size=(20, 3)), columns=['lat', 'lon', 'sea_surface_temperature'])\n",
    "\n",
    "# Make predictions on test set\n",
    "result_predict_xgb_test = model.predict(X_test)\n",
    "\n",
    "# Calculate accuracy (assuming you have y_test)\n",
    "y_test = np.random.choice(['class_0', 'class_1'], size=20)  # Replace with actual test labels if available\n",
    "y_test_encoded = encoder.transform(y_test)  # Encode y_test similarly\n",
    "\n",
    "acc = np.mean(y_test_encoded == result_predict_xgb_test)\n",
    "print(\"Model accuracy =\", acc)"
   ]
  },
  {
   "cell_type": "code",
   "execution_count": 43,
   "id": "39f36bc0-1d17-423b-aebc-e03a17ce045a",
   "metadata": {},
   "outputs": [
    {
     "name": "stdout",
     "output_type": "stream",
     "text": [
      "[0]\tvalidation_0-logloss:0.68202\n",
      "[1]\tvalidation_0-logloss:0.69381\n",
      "[2]\tvalidation_0-logloss:0.70457\n",
      "[3]\tvalidation_0-logloss:0.74564\n",
      "[4]\tvalidation_0-logloss:0.74835\n",
      "[5]\tvalidation_0-logloss:0.75101\n",
      "[6]\tvalidation_0-logloss:0.77875\n",
      "[7]\tvalidation_0-logloss:0.74743\n",
      "[8]\tvalidation_0-logloss:0.77713\n",
      "[9]\tvalidation_0-logloss:0.77083\n",
      "[10]\tvalidation_0-logloss:0.77216\n",
      "[11]\tvalidation_0-logloss:0.76510\n",
      "[12]\tvalidation_0-logloss:0.78438\n",
      "[13]\tvalidation_0-logloss:0.79562\n",
      "[14]\tvalidation_0-logloss:0.79948\n",
      "[15]\tvalidation_0-logloss:0.78600\n",
      "[16]\tvalidation_0-logloss:0.80592\n",
      "[17]\tvalidation_0-logloss:0.81062\n",
      "[18]\tvalidation_0-logloss:0.80869\n",
      "[19]\tvalidation_0-logloss:0.80569\n",
      "[20]\tvalidation_0-logloss:0.81365\n",
      "[21]\tvalidation_0-logloss:0.81526\n",
      "[22]\tvalidation_0-logloss:0.80913\n",
      "[23]\tvalidation_0-logloss:0.82598\n",
      "[24]\tvalidation_0-logloss:0.84199\n",
      "[25]\tvalidation_0-logloss:0.84764\n",
      "[26]\tvalidation_0-logloss:0.85464\n",
      "[27]\tvalidation_0-logloss:0.84941\n",
      "[28]\tvalidation_0-logloss:0.86358\n",
      "[29]\tvalidation_0-logloss:0.86202\n",
      "[30]\tvalidation_0-logloss:0.85460\n",
      "[31]\tvalidation_0-logloss:0.85678\n",
      "[32]\tvalidation_0-logloss:0.85374\n",
      "[33]\tvalidation_0-logloss:0.84900\n",
      "[34]\tvalidation_0-logloss:0.85654\n",
      "[35]\tvalidation_0-logloss:0.87677\n",
      "[36]\tvalidation_0-logloss:0.87715\n",
      "[37]\tvalidation_0-logloss:0.87986\n",
      "[38]\tvalidation_0-logloss:0.89294\n",
      "[39]\tvalidation_0-logloss:0.88256\n",
      "[40]\tvalidation_0-logloss:0.88996\n",
      "[41]\tvalidation_0-logloss:0.88767\n",
      "[42]\tvalidation_0-logloss:0.88492\n",
      "[43]\tvalidation_0-logloss:0.88380\n",
      "[44]\tvalidation_0-logloss:0.90157\n",
      "[45]\tvalidation_0-logloss:0.90219\n",
      "[46]\tvalidation_0-logloss:0.90187\n",
      "[47]\tvalidation_0-logloss:0.90043\n",
      "[48]\tvalidation_0-logloss:0.89795\n",
      "[49]\tvalidation_0-logloss:0.89137\n",
      "[50]\tvalidation_0-logloss:0.89654\n",
      "[51]\tvalidation_0-logloss:0.89195\n",
      "[52]\tvalidation_0-logloss:0.89935\n",
      "[53]\tvalidation_0-logloss:0.89897\n",
      "[54]\tvalidation_0-logloss:0.89767\n",
      "[55]\tvalidation_0-logloss:0.89614\n",
      "[56]\tvalidation_0-logloss:0.89257\n",
      "[57]\tvalidation_0-logloss:0.89423\n",
      "[58]\tvalidation_0-logloss:0.89849\n",
      "[59]\tvalidation_0-logloss:0.89666\n",
      "[60]\tvalidation_0-logloss:0.89614\n",
      "[61]\tvalidation_0-logloss:0.90515\n",
      "[62]\tvalidation_0-logloss:0.90926\n",
      "[63]\tvalidation_0-logloss:0.90791\n",
      "[64]\tvalidation_0-logloss:0.91117\n",
      "[65]\tvalidation_0-logloss:0.91685\n",
      "[66]\tvalidation_0-logloss:0.92004\n",
      "[67]\tvalidation_0-logloss:0.91946\n",
      "[68]\tvalidation_0-logloss:0.92184\n",
      "[69]\tvalidation_0-logloss:0.92511\n",
      "[70]\tvalidation_0-logloss:0.92820\n",
      "[71]\tvalidation_0-logloss:0.94019\n",
      "[72]\tvalidation_0-logloss:0.94471\n",
      "[73]\tvalidation_0-logloss:0.94431\n",
      "[74]\tvalidation_0-logloss:0.94670\n",
      "[75]\tvalidation_0-logloss:0.95099\n",
      "[76]\tvalidation_0-logloss:0.95432\n",
      "[77]\tvalidation_0-logloss:0.95742\n",
      "[78]\tvalidation_0-logloss:0.95950\n",
      "[79]\tvalidation_0-logloss:0.95762\n",
      "[80]\tvalidation_0-logloss:0.96051\n",
      "[81]\tvalidation_0-logloss:0.96248\n",
      "[82]\tvalidation_0-logloss:0.96198\n",
      "[83]\tvalidation_0-logloss:0.96188\n",
      "[84]\tvalidation_0-logloss:0.96285\n",
      "[85]\tvalidation_0-logloss:0.96498\n",
      "[86]\tvalidation_0-logloss:0.96910\n",
      "[87]\tvalidation_0-logloss:0.97189\n",
      "[88]\tvalidation_0-logloss:0.97516\n",
      "[89]\tvalidation_0-logloss:0.97841\n",
      "[90]\tvalidation_0-logloss:0.98073\n",
      "[91]\tvalidation_0-logloss:0.97982\n",
      "[92]\tvalidation_0-logloss:0.98074\n",
      "[93]\tvalidation_0-logloss:0.98284\n",
      "[94]\tvalidation_0-logloss:0.98122\n",
      "[95]\tvalidation_0-logloss:0.98347\n",
      "[96]\tvalidation_0-logloss:0.98432\n",
      "[97]\tvalidation_0-logloss:0.98626\n",
      "[98]\tvalidation_0-logloss:0.98327\n",
      "[99]\tvalidation_0-logloss:0.98415\n",
      "Evaluation results: {'validation_0': OrderedDict([('logloss', [0.6820235699415207, 0.6938066631555557, 0.7045710042119027, 0.7456365153193474, 0.7483533024787903, 0.7510128729045391, 0.7787486828863621, 0.74742993414402, 0.7771282084286213, 0.7708268336951732, 0.7721601650118828, 0.7650974784046412, 0.7843823108822108, 0.7956248007714748, 0.7994810592383146, 0.7860042221844197, 0.8059231035411358, 0.8106192192062736, 0.8086926171556115, 0.8056852689012886, 0.81365468762815, 0.8152630344033241, 0.809128882177174, 0.825981386564672, 0.8419902643188835, 0.8476365607231855, 0.8546435505151748, 0.849407222494483, 0.8635820522904396, 0.8620247883722186, 0.854595997184515, 0.8567798509262502, 0.8537435901351274, 0.8489983160980046, 0.8565362149849534, 0.8767678389325738, 0.8771526698023081, 0.8798639688640832, 0.892943576630205, 0.8825624565593898, 0.8899624331854283, 0.8876720501109958, 0.884920917171985, 0.8838002071715891, 0.9015661368146539, 0.9021946597844362, 0.9018712437711656, 0.9004341924563051, 0.8979475295171142, 0.8913726252503693, 0.8965449137613177, 0.8919489056803286, 0.899351663608104, 0.8989675466902554, 0.8976656875573099, 0.8961433897726238, 0.8925674574449658, 0.894231734611094, 0.8984920291230083, 0.8966626583598554, 0.8961373401805759, 0.9051452042534948, 0.9092607721686363, 0.9079068911261856, 0.9111742675304413, 0.9168537543155253, 0.9200444024056196, 0.9194578324444592, 0.9218423007056117, 0.9251098621636629, 0.9281959951855242, 0.9401868000626564, 0.9447137213312089, 0.9443148954771459, 0.9467037756927311, 0.9509938053786755, 0.9543186657130718, 0.9574225211516023, 0.9594960331916809, 0.9576192244887352, 0.9605083277449011, 0.9624765169806778, 0.9619820734485984, 0.961881248652935, 0.9628453406505286, 0.9649848194792867, 0.9691004974767565, 0.971885379217565, 0.9751618934795261, 0.9784103878773749, 0.9807310187257826, 0.9798243205994368, 0.9807386730797589, 0.9828443279489875, 0.9812190992757678, 0.983466777857393, 0.984315455518663, 0.9862627680413425, 0.9832708696834743, 0.9841493659652769])])}\n"
     ]
    }
   ],
   "source": [
    "import numpy as np\n",
    "from xgboost import XGBClassifier\n",
    "from sklearn.model_selection import train_test_split\n",
    "from sklearn.preprocessing import LabelEncoder\n",
    "\n",
    "# Sample data creation (replace this with your actual data)\n",
    "X = np.random.rand(100, 4)  # Example feature set\n",
    "y = np.random.choice(['class_0', 'class_1'], size=100)  # Example labels\n",
    "\n",
    "# Encode the target variable\n",
    "encoder = LabelEncoder()\n",
    "y_encoded = encoder.fit_transform(y)\n",
    "\n",
    "# Split data into training and validation sets\n",
    "X_train, X_val, y_train, y_val = train_test_split(X, y_encoded, test_size=0.2, random_state=42)\n",
    "\n",
    "# Initialize XGBClassifier\n",
    "model = XGBClassifier(objective='binary:logistic', eval_metric='logloss', random_state=42)\n",
    "\n",
    "# Define eval_set for monitoring performance\n",
    "eval_set = [(X_val, y_val)]\n",
    "\n",
    "# Fit the model with eval_set\n",
    "model.fit(X_train, y_train, eval_set=eval_set, verbose=True)\n",
    "\n",
    "# Retrieve evaluation results\n",
    "results = model.evals_result()\n",
    "\n",
    "# Print evaluation results\n",
    "print(\"Evaluation results:\", results)"
   ]
  },
  {
   "cell_type": "code",
   "execution_count": 45,
   "id": "31538b33-ce7c-4ca4-986f-5e6c0afa54aa",
   "metadata": {},
   "outputs": [
    {
     "data": {
      "image/png": "[encoded data removed]",
      "text/plain": [
       "<Figure size 800x600 with 1 Axes>"
      ]
     },
     "metadata": {},
     "output_type": "display_data"
    },
    {
     "data": {
      "image/png": "[encoded data removed]",
      "text/plain": [
       "<Figure size 640x480 with 2 Axes>"
      ]
     },
     "metadata": {},
     "output_type": "display_data"
    },
    {
     "name": "stdout",
     "output_type": "stream",
     "text": [
      "Accuracy: 0.90\n"
     ]
    }
   ],
   "source": [
    "import numpy as np\n",
    "import matplotlib.pyplot as plt\n",
    "from sklearn.datasets import make_classification\n",
    "from sklearn.model_selection import train_test_split\n",
    "from xgboost import XGBClassifier\n",
    "from sklearn.metrics import roc_curve, auc, confusion_matrix, accuracy_score, ConfusionMatrixDisplay\n",
    "\n",
    "# Generate a synthetic dataset for binary classification\n",
    "X, y = make_classification(n_samples=1000, n_classes=2, random_state=42)\n",
    "\n",
    "# Split the data into training and testing sets\n",
    "X_train, X_test, y_train, y_test = train_test_split(X, y, test_size=0.2, random_state=42)\n",
    "\n",
    "# Initialize and train the XGBoost classifier\n",
    "model = XGBClassifier(random_state=42)\n",
    "model.fit(X_train, y_train)\n",
    "\n",
    "# Make probability predictions on the test set\n",
    "y_pred_proba = model.predict_proba(X_test)[:, 1]\n",
    "\n",
    "# Calculate the false positive rate (FPR), true positive rate (TPR), and thresholds\n",
    "fpr, tpr, thresholds = roc_curve(y_test, y_pred_proba)\n",
    "\n",
    "# Calculate the area under the ROC curve (AUC)\n",
    "roc_auc = auc(fpr, tpr)\n",
    "\n",
    "# Plot the ROC curve\n",
    "plt.figure(figsize=(8, 6))\n",
    "plt.plot(fpr, tpr, color='blue', label=f'ROC curve (AUC = {roc_auc:.2f})')\n",
    "plt.plot([0, 1], [0, 1], color='red', linestyle='--', label='Random guess')\n",
    "plt.xlim([0.0, 1.0])\n",
    "plt.ylim([0.0, 1.05])\n",
    "plt.xlabel('False Positive Rate')\n",
    "plt.ylabel('True Positive Rate')\n",
    "plt.title('Receiver Operating Characteristic (ROC) Curve')\n",
    "plt.legend(loc=\"lower right\")\n",
    "plt.show()\n",
    "\n",
    "# Calculate confusion matrix and accuracy\n",
    "y_pred = model.predict(X_test)\n",
    "cm = confusion_matrix(y_test, y_pred)\n",
    "accuracy = accuracy_score(y_test, y_pred)\n",
    "\n",
    "# Display confusion matrix\n",
    "disp = ConfusionMatrixDisplay(confusion_matrix=cm)\n",
    "disp.plot(cmap=plt.cm.Blues)\n",
    "plt.title('Confusion Matrix')\n",
    "plt.show()\n",
    "\n",
    "# Print accuracy\n",
    "print(f\"Accuracy: {accuracy:.2f}\")"
   ]
  },
  {
   "cell_type": "code",
   "execution_count": 49,
   "id": "28c22f24-6925-4be4-8632-620a46b190ec",
   "metadata": {},
   "outputs": [
    {
     "data": {
      "image/png": "[encoded data removed]",
      "text/plain": [
       "<Figure size 800x600 with 1 Axes>"
      ]
     },
     "metadata": {},
     "output_type": "display_data"
    },
    {
     "name": "stdout",
     "output_type": "stream",
     "text": [
      "Accuracy: 0.895\n"
     ]
    },
    {
     "data": {
      "image/png": "[encoded data removed]",
      "text/plain": [
       "<Figure size 640x480 with 1 Axes>"
      ]
     },
     "metadata": {},
     "output_type": "display_data"
    },
    {
     "data": {
      "image/png": "[encoded data removed]",
      "text/plain": [
       "<Figure size 640x480 with 1 Axes>"
      ]
     },
     "metadata": {},
     "output_type": "display_data"
    },
    {
     "data": {
      "image/png": "[encoded data removed]",
      "text/plain": [
       "<Figure size 640x480 with 2 Axes>"
      ]
     },
     "metadata": {},
     "output_type": "display_data"
    },
    {
     "name": "stdout",
     "output_type": "stream",
     "text": [
      "Accuracy: 0.90\n"
     ]
    }
   ],
   "source": [
    "import numpy as np\n",
    "import matplotlib.pyplot as plt\n",
    "from sklearn.datasets import make_classification\n",
    "from sklearn.model_selection import train_test_split\n",
    "from xgboost import XGBClassifier\n",
    "from sklearn.metrics import roc_curve, auc, confusion_matrix, accuracy_score, ConfusionMatrixDisplay\n",
    "\n",
    "# Generate a synthetic dataset for binary classification\n",
    "X, y = make_classification(n_samples=1000, n_classes=2, random_state=42)\n",
    "\n",
    "# Split the data into training and testing sets\n",
    "X_train, X_test, y_train, y_test = train_test_split(X, y, test_size=0.2, random_state=42)\n",
    "\n",
    "# Initialize and train the XGBoost classifier\n",
    "model = XGBClassifier(random_state=42)\n",
    "model.fit(X_train, y_train)\n",
    "\n",
    "# Make probability predictions on the test set\n",
    "y_pred_proba = model.predict_proba(X_test)[:, 1]\n",
    "\n",
    "# Calculate the false positive rate (FPR), true positive rate (TPR), and thresholds\n",
    "fpr, tpr, thresholds = roc_curve(y_test, y_pred_proba)\n",
    "\n",
    "# Calculate the area under the ROC curve (AUC)\n",
    "roc_auc = auc(fpr, tpr)\n",
    "\n",
    "# Plot the ROC curve\n",
    "plt.figure(figsize=(8, 6))\n",
    "plt.plot(fpr, tpr, color='blue', label=f'ROC curve (AUC = {roc_auc:.2f})')\n",
    "plt.plot([0, 1], [0, 1], color='red', linestyle='--', label='Random guess')\n",
    "plt.xlim([0.0, 1.0])\n",
    "plt.ylim([0.0, 1.05])\n",
    "plt.xlabel('False Positive Rate')\n",
    "plt.ylabel('True Positive Rate')\n",
    "plt.title('Receiver Operating Characteristic (ROC) Curve')\n",
    "plt.legend(loc=\"lower right\")\n",
    "plt.show()\n",
    "\n",
    "\n",
    "# Calculate confusion matrix and accuracy\n",
    "# Print evaluation metrics\n",
    "print(\"Accuracy:\", accuracy)\n",
    "\n",
    "# Plot Log Loss for training and validation\n",
    "plt.plot(results['validation_0']['logloss'], label='Train Log Loss')\n",
    "plt.xlabel('Boosting Round')\n",
    "plt.ylabel('Log Loss')\n",
    "plt.title('Learning Curve')\n",
    "plt.legend()\n",
    "plt.show()\n",
    "\n",
    "# Plot ROC Curve\n",
    "plt.plot(fpr, tpr, label=f\"ROC Curve (AUC = {roc_auc:.2f})\")\n",
    "plt\n",
    "# Plot Precision-Recall Curve\n",
    "plt.xlabel('Recall')\n",
    "plt.ylabel('Precision')\n",
    "plt.title('Precision-Recall Curve')\n",
    "plt.legend()\n",
    "plt.show()\n",
    "\n",
    "# Display confusion matrix\n",
    "disp = ConfusionMatrixDisplay(confusion_matrix=cm)\n",
    "disp.plot(cmap=plt.cm.Blues)\n",
    "plt.title('Confusion Matrix')\n",
    "plt.show()\n",
    "\n",
    "# Print accuracy\n",
    "print(f\"Accuracy: {accuracy:.2f}\")"
   ]
  },
  {
   "cell_type": "code",
   "execution_count": null,
   "id": "fa16db13-8f14-4fe2-a90c-5fa8670e26cb",
   "metadata": {},
   "outputs": [],
   "source": []
  }
 ],
 "metadata": {
  "kernelspec": {
   "display_name": "Python 3 (ipykernel)",
   "language": "python",
   "name": "python3"
  },
  "language_info": {
   "codemirror_mode": {
    "name": "ipython",
    "version": 3
   },
   "file_extension": ".py",
   "mimetype": "text/x-python",
   "name": "python",
   "nbconvert_exporter": "python",
   "pygments_lexer": "ipython3",
   "version": "3.9.20"
  }
 },
 "nbformat": 4,
 "nbformat_minor": 5
}
